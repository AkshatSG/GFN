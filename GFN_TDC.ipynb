{
  "nbformat": 4,
  "nbformat_minor": 0,
  "metadata": {
    "colab": {
      "provenance": [],
      "gpuType": "T4"
    },
    "kernelspec": {
      "name": "python3",
      "display_name": "Python 3"
    },
    "language_info": {
      "name": "python"
    },
    "accelerator": "GPU"
  },
  "cells": [
    {
      "cell_type": "code",
      "execution_count": null,
      "metadata": {
        "id": "ZVPckFLhqjgj",
        "collapsed": true
      },
      "outputs": [],
      "source": [
        "!pip install PyTDC"
      ]
    },
    {
      "cell_type": "code",
      "source": [
        "from tdc.single_pred.mpc import MPC\n",
        "data = MPC(name = \"https://raw.githubusercontent.com/bidd-group/MPCD/main/dataset/ADMET/DeepDelta_benchmark/Caco2.csv\") # url from the source github repo https://github.com/bidd-group/MPCD/tree/main/dataset\n",
        "# example url: https://raw.githubusercontent.com/bidd-group/MPCD/main/dataset/ADMET/DeepDelta_benchmark/Caco2.csv\n",
        "split = data.get_split()"
      ],
      "metadata": {
        "id": "mXqtDDZirLnz",
        "colab": {
          "base_uri": "https://localhost:8080/"
        },
        "outputId": "9e9f5120-406a-4c0d-a510-6ac47c23fe9d"
      },
      "execution_count": 1,
      "outputs": [
        {
          "output_type": "stream",
          "name": "stderr",
          "text": [
            "100%|██████████| 910/910 [00:03<00:00, 241.78it/s]\n"
          ]
        }
      ]
    },
    {
      "cell_type": "code",
      "source": [
        "train_data = split['train']\n",
        "test_data = split['test']"
      ],
      "metadata": {
        "id": "qnoI6q9OIP-C"
      },
      "execution_count": 2,
      "outputs": []
    },
    {
      "cell_type": "code",
      "source": [
        "X_train = train_data['SMILES']\n",
        "y_train = train_data['Y']\n",
        "X_test = test_data['SMILES']\n",
        "y_test = test_data['Y']"
      ],
      "metadata": {
        "id": "hwxlsasvJYtS"
      },
      "execution_count": 3,
      "outputs": []
    },
    {
      "cell_type": "code",
      "source": [
        "from rdkit import Chem\n",
        "from rdkit.Chem import AllChem\n",
        "\n",
        "def smiles_to_fp(smiles):\n",
        "    mol = Chem.MolFromSmiles(smiles)\n",
        "    return AllChem.GetMorganFingerprintAsBitVect(mol, 2, nBits=1024)\n",
        "\n",
        "X_train_fp = [smiles_to_fp(s) for s in X_train]\n",
        "X_test_fp = [smiles_to_fp(s) for s in X_test]\n"
      ],
      "metadata": {
        "id": "X-Vw5OHfIV7L"
      },
      "execution_count": 4,
      "outputs": []
    },
    {
      "cell_type": "code",
      "source": [
        "X_train_fp"
      ],
      "metadata": {
        "id": "1xQVsSbIIaU8"
      },
      "execution_count": null,
      "outputs": []
    },
    {
      "cell_type": "code",
      "source": [
        "from sklearn.ensemble import RandomForestRegressor\n",
        "from sklearn.metrics import mean_squared_error, r2_score\n",
        "\n",
        "model = RandomForestRegressor(n_estimators=23, random_state=42)\n",
        "model.fit(X_train_fp, y_train)\n",
        "\n",
        "y_pred = model.predict(X_test_fp)\n",
        "mse = mean_squared_error(y_test, y_pred)\n",
        "\n",
        "print(f\"Mean Squared Error: {mse}\")\n"
      ],
      "metadata": {
        "colab": {
          "base_uri": "https://localhost:8080/"
        },
        "id": "tdFPtBrTJpB_",
        "outputId": "a15797cc-7fd1-4d43-b3d2-7a22f9623611"
      },
      "execution_count": 6,
      "outputs": [
        {
          "output_type": "stream",
          "name": "stdout",
          "text": [
            "Mean Squared Error: 0.2961497651571661\n"
          ]
        }
      ]
    }
  ]
}